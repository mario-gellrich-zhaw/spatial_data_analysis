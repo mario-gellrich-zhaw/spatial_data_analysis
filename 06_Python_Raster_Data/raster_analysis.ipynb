{
 "cells": [
  {
   "cell_type": "markdown",
   "metadata": {},
   "source": [
    "# Working with raster data in Python"
   ]
  },
  {
   "cell_type": "markdown",
   "metadata": {},
   "source": [
    "## Libraries and Settings"
   ]
  },
  {
   "cell_type": "code",
   "execution_count": null,
   "metadata": {},
   "outputs": [],
   "source": [
    "# Libraries\n",
    "import os\n",
    "import pprint\n",
    "import requests\n",
    "import numpy as np\n",
    "import pandas as pd\n",
    "\n",
    "import fiona\n",
    "import geopandas as gpd\n",
    "\n",
    "import rasterio\n",
    "from rasterio import plot\n",
    "import rasterio.mask\n",
    "\n",
    "from shapely.geometry import Polygon\n",
    "\n",
    "import matplotlib.patches as patches\n",
    "from matplotlib import pyplot as plt\n",
    "\n",
    "# Ignore warnings\n",
    "import warnings\n",
    "warnings.filterwarnings(\"ignore\")\n",
    "\n",
    "print(os.getcwd())"
   ]
  },
  {
   "cell_type": "markdown",
   "metadata": {},
   "source": [
    "## Download example raster (.geotiff) from SwissTopo\n",
    "\n",
    "Source: https://www.swisstopo.admin.ch/de/orthobilder-swissimage-10-cm"
   ]
  },
  {
   "cell_type": "code",
   "execution_count": null,
   "metadata": {},
   "outputs": [],
   "source": [
    "# Get example raster from swisstopo\n",
    "url = \"https://data.geo.admin.ch/ch.swisstopo.swissimage-dop10/swissimage-dop10_2022_2693-1246/swissimage-dop10_2022_2693-1246_0.1_2056.tif\"\n",
    "response = requests.get(url)\n",
    "\n",
    "with open('swissimage.tif', 'wb') as f:\n",
    "    f.write(response.content)"
   ]
  },
  {
   "cell_type": "code",
   "execution_count": null,
   "metadata": {},
   "outputs": [],
   "source": [
    "# Import raster\n",
    "src = rasterio.open(\"swissimage.tif\")\n",
    "\n",
    "# Show raster\n",
    "fig, ax = plt.subplots(figsize=(7,7))\n",
    "rasterio.plot.show(src, ax=ax)\n",
    "\n",
    "# Hide axes\n",
    "ax.axis('off')\n",
    "\n",
    "plt.show()\n"
   ]
  },
  {
   "cell_type": "markdown",
   "metadata": {},
   "source": [
    "## Show histogram of RGB colors"
   ]
  },
  {
   "cell_type": "code",
   "execution_count": null,
   "metadata": {},
   "outputs": [],
   "source": [
    "# Open raster\n",
    "with rasterio.open('swissimage.tif') as src:\n",
    "    \n",
    "    red_band = src.read(1)\n",
    "    green_band = src.read(2)\n",
    "    blue_band = src.read(3)\n",
    "\n",
    "# Flatten the arrays\n",
    "red = red_band.flatten()\n",
    "green = green_band.flatten()\n",
    "blue = blue_band.flatten()\n",
    "\n",
    "# Plot a histogram\n",
    "plt.hist(red, bins=50, color='red', alpha=0.3, label='Red')\n",
    "plt.hist(green, bins=50, color='green', alpha=0.3, label='Green')\n",
    "plt.hist(blue, bins=50, color='blue', alpha=0.3, label='Blue')\n",
    "\n",
    "plt.legend(loc='upper right')\n",
    "plt.show()\n"
   ]
  },
  {
   "cell_type": "markdown",
   "metadata": {},
   "source": [
    "## Masking a raster using a shapefile"
   ]
  },
  {
   "cell_type": "markdown",
   "metadata": {},
   "source": [
    "### Create a shapefile"
   ]
  },
  {
   "cell_type": "code",
   "execution_count": null,
   "metadata": {},
   "outputs": [],
   "source": [
    "# Read raster\n",
    "src = rasterio.open(\"swissimage.tif\")\n",
    "\n",
    "# Bottom left corner of square (LV95 coordinates)\n",
    "x1, y1 = 2693300, 1246567\n",
    "\n",
    "# Side lenght of square in meters\n",
    "size = 250\n",
    "\n",
    "# Create the other three corners\n",
    "coordinates = [(x1, y1), (x1, y1 + size), (x1 + size, y1 + size), (x1 + size, y1)]\n",
    "\n",
    "# Create a shapely polygon from the coordinates\n",
    "polygon = Polygon(coordinates)\n",
    "\n",
    "# Create a GeoDataFrame\n",
    "gdf = gpd.GeoDataFrame(index=[0], geometry=[polygon])\n",
    "\n",
    "# Save the GeoDataFrame as a shapefile\n",
    "gdf.to_file(\"municipality_part.shp\")\n",
    "\n",
    "# Plot the shapefile over the raster\n",
    "fig, ax = plt.subplots(figsize=(7,7))\n",
    "rasterio.plot.show(src, ax=ax)\n",
    "patch = patches.Polygon(coordinates, fill=False, edgecolor='red', linewidth=2)\n",
    "ax.add_patch(patch)\n",
    "ax.axis('off')\n",
    "\n",
    "plt.show()"
   ]
  },
  {
   "cell_type": "markdown",
   "metadata": {},
   "source": [
    "### Masking the raster"
   ]
  },
  {
   "cell_type": "code",
   "execution_count": null,
   "metadata": {},
   "outputs": [],
   "source": [
    "# Read shapefile\n",
    "with fiona.open(\"municipality_part.shp\", \"r\") as shapefile:\n",
    "    shapes = [feature[\"geometry\"] for feature in shapefile]\n",
    "\n",
    "# Mask the raster with the shapefile\n",
    "with rasterio.open(\"swissimage.tif\") as src:\n",
    "    out_image, out_transform = rasterio.mask.mask(src, shapes, crop=True)\n",
    "    out_meta = src.meta\n",
    "\n",
    "# Plot the masked raster\n",
    "fig, ax = plt.subplots(figsize=(7,7))\n",
    "rasterio.plot.show(out_image, ax=ax)\n",
    "\n",
    "# Hide the axes\n",
    "ax.axis('off')\n",
    "\n",
    "plt.show()"
   ]
  },
  {
   "cell_type": "markdown",
   "metadata": {},
   "source": [
    "## Save masked raster as .geotiff"
   ]
  },
  {
   "cell_type": "code",
   "execution_count": null,
   "metadata": {},
   "outputs": [],
   "source": [
    "# Update metadata\n",
    "out_meta.update({\n",
    "    \"driver\": \"GTiff\",\n",
    "    \"height\": out_image.shape[1],\n",
    "    \"width\": out_image.shape[2],\n",
    "    \"transform\": out_transform\n",
    "})\n",
    "\n",
    "# Write the masked image to a new GeoTIFF file\n",
    "with rasterio.open(\"masked_swissimage.tif\", \"w\", **out_meta) as dest:\n",
    "    dest.write(out_image)\n",
    "\n",
    "# Print metadata\n",
    "print('Meta data:')\n",
    "pprint.pprint(out_meta)"
   ]
  },
  {
   "cell_type": "markdown",
   "metadata": {},
   "source": [
    "### Jupyter notebook --footer info-- (please always provide this at the end of each notebook)"
   ]
  },
  {
   "cell_type": "code",
   "execution_count": null,
   "metadata": {},
   "outputs": [],
   "source": [
    "import os\n",
    "import platform\n",
    "import socket\n",
    "from platform import python_version\n",
    "from datetime import datetime\n",
    "\n",
    "print('-----------------------------------')\n",
    "print(os.name.upper())\n",
    "print(platform.system(), '|', platform.release())\n",
    "print('Datetime:', datetime.now().strftime(\"%Y-%m-%d %H:%M:%S\"))\n",
    "print('Python Version:', python_version())\n",
    "print('-----------------------------------')"
   ]
  }
 ],
 "metadata": {
  "kernelspec": {
   "display_name": "gisenv",
   "language": "python",
   "name": "python3"
  },
  "language_info": {
   "codemirror_mode": {
    "name": "ipython",
    "version": 3
   },
   "file_extension": ".py",
   "mimetype": "text/x-python",
   "name": "python",
   "nbconvert_exporter": "python",
   "pygments_lexer": "ipython3",
   "version": "3.11.9"
  }
 },
 "nbformat": 4,
 "nbformat_minor": 2
}
